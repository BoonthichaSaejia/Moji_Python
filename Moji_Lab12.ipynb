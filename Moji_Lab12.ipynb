{
 "cells": [
  {
   "cell_type": "code",
   "execution_count": 73,
   "metadata": {},
   "outputs": [],
   "source": [
    "class Employees:\n",
    "    def __init__(self,firstname,lastname,salary,jobtitle,age):\n",
    "        self.firstName=firstname\n",
    "        self.lastName=lastname\n",
    "        self.salary=salary\n",
    "        self.jobtitle=jobtitle\n",
    "        self.age=age\n",
    "    def fullName(self):\n",
    "        return self.firstName+(\" \")+self.lastName\n",
    "    def getSalary(self):\n",
    "        return self.salary\n",
    "    def getAge(self):\n",
    "        return self.age\n",
    "    def getJob(self):\n",
    "        return self.jobtitle\n",
    "    def yearlySalary(self):\n",
    "        return self.salary*26\n",
    "    def getLastname(self):\n",
    "        return self.lastName\n",
    "    \n",
    "    \n",
    "def makeEmployee(infoStr):\n",
    "    firstname, lastname,salary,jobtitle,age=infoStr.split(\",\")\n",
    "    salary=float(salary)\n",
    "    age=int(age)\n",
    "    return Employees(firstname,lastname,salary,jobtitle,age)\n",
    "        \n",
    "def readEmployee(filename):\n",
    "    infile=open(filename,'r')\n",
    "    employees=[]\n",
    "    for line in infile:\n",
    "        employees.append(makeEmployee(line))\n",
    "    infile.close()\n",
    "    return employees\n",
    "\n",
    "def writeEmployee(employees,filename):\n",
    "    outfile=open(filename,\"w\")\n",
    "    for em in employees:\n",
    "        print(\"%s\\t%.2f\\t%d\\t%s\\t$%.2f\" %(em.fullName(),em.getSalary(),em.getAge(),em.getJob(),em.yearlySalary()),file=outfile)\n",
    "    outfile.close\n",
    "    \n",
    "def main():\n",
    "    filename=input(\"Enter the name of the data file: \")\n",
    "    data_1=readEmployee(filename)\n",
    "    data_1.sort(key=Employees.getSalary)\n",
    "    writeEmployee(data_1,\"salary.txt\")\n",
    "    \n",
    "    print(\"Data has been written to salary.txt\")\n",
    "    \n",
    "    data_2=readEmployee(filename)\n",
    "    data_2.sort(key=Employees.getAge)\n",
    "    writeEmployee(data_2,\"empage.txt\")\n",
    "    \n",
    "    print(\"Data has been written to empage.txt\")\n",
    "    \n",
    "    data_3=readEmployee(filename)\n",
    "    data_3.sort(key=Employees.getLastname)\n",
    "    writeEmployee(data_3,\"empname.txt\")\n",
    "    \n",
    "    print(\"Data has been written to empname.txt\")\n",
    "    "
   ]
  },
  {
   "cell_type": "code",
   "execution_count": 74,
   "metadata": {},
   "outputs": [
    {
     "name": "stdout",
     "output_type": "stream",
     "text": [
      "Enter the name of the data file: employees.txt\n",
      "Data has been written to salary.txt\n",
      "Data has been written to empage.txt\n",
      "Data has been written to empname.txt\n"
     ]
    }
   ],
   "source": [
    "main()"
   ]
  },
  {
   "cell_type": "code",
   "execution_count": null,
   "metadata": {},
   "outputs": [],
   "source": []
  }
 ],
 "metadata": {
  "kernelspec": {
   "display_name": "Python 3",
   "language": "python",
   "name": "python3"
  },
  "language_info": {
   "codemirror_mode": {
    "name": "ipython",
    "version": 3
   },
   "file_extension": ".py",
   "mimetype": "text/x-python",
   "name": "python",
   "nbconvert_exporter": "python",
   "pygments_lexer": "ipython3",
   "version": "3.7.2"
  }
 },
 "nbformat": 4,
 "nbformat_minor": 4
}
