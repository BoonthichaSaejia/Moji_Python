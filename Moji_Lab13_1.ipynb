{
 "cells": [
  {
   "cell_type": "code",
   "execution_count": null,
   "metadata": {},
   "outputs": [
    {
     "name": "stdout",
     "output_type": "stream",
     "text": [
      "This program simulates games of racquetball between two\n",
      "players called \"A\" and \"B\". The ability of each player is\n",
      "indicated by a probability (a number between 0 and 1) that\n",
      "the player wins the point when serving. Player A always\n",
      "has the first serve.\n",
      "\n",
      "What is the prob. player A wins a serve?.5\n",
      "What is the prob. player B wins a serve?.5\n",
      "How many games to simulate?1000\n",
      "Summary of 1000 games:\n",
      "\n",
      "           wins (% total)\n",
      "-------------------------\n",
      "Player A:  524 (52.4%)\n",
      "Player B:  476 (47.6%)\n",
      "\n",
      "\n"
     ]
    }
   ],
   "source": [
    "from random import random\n",
    "\n",
    "class Player:\n",
    "#A player keepts track of service probability and score\n",
    "    def __init__(self,prob):\n",
    "        self.prob=prob\n",
    "        self.score=0\n",
    "    def winsServe(self):\n",
    "        #Returns a boolean that is True with a prob self.prob\n",
    "        return random()<=self.prob       #return true == server win score\n",
    "    def incScore(self):\n",
    "        self.score=self.score+1\n",
    "    def getScore(self):\n",
    "        return self.score\n",
    "        \n",
    "class RBallGame:\n",
    "#A game in progress\n",
    "    def __init__(self,probA,probB):\n",
    "        self.playerA=Player(probA)\n",
    "        self.playerB=Player(probB)\n",
    "        self.server=self.playerA\n",
    "    def play(self):\n",
    "        #play the game to completion\n",
    "        while not self.isOver():          #need to creat method isOver() \n",
    "            if self.server.winsServe():   #need to creat method winsServe()\n",
    "                self.server.incScore()    #need to creat method incScore() \n",
    "            else:\n",
    "                self.changeServer()       ##need to creat method changeServer() \n",
    "    def isOver(self):\n",
    "        #return game is finished (or not)\n",
    "        a,b=self.getScores()\n",
    "        return a==15 or b==15\n",
    "    def changeServer(self):\n",
    "        if self.server==self.playerA:\n",
    "            self.server=self.playerB\n",
    "        else:\n",
    "            self.server=self.playerA\n",
    "    def getScores(self):\n",
    "        return self.playerA.getScore(),self.playerB.getScore()\n",
    "        \n",
    "\n",
    "class SimStats:\n",
    "#Handles the accumulation of statistics across multiple games\n",
    "    def __init__(self):\n",
    "        self.winsA=0\n",
    "        self.winsB=0\n",
    "    def update(self,aGame):\n",
    "        #Determine the outcome of a game (aGame) and update stats\n",
    "        a,b=aGame.getScores()        #need to creat method getScores()\n",
    "        if a>b:                      #if score of player a more than that of player b, the number of A'win (winsA will +1)\n",
    "            self.winsA=self.winsA+1\n",
    "        else:                        #if score of player b more than that of player a, the number of A'win (winsB will +1)\n",
    "            self.winsB=self.winsB+1\n",
    "    def printReport(self):\n",
    "        n = self.winsA + self.winsB\n",
    "        print(\"Summary of\", n, \"games:\\n\")\n",
    "        print(\"           wins (% total)\")\n",
    "        print(\"-------------------------\")\n",
    "        self.printLine(\"A\", self.winsA,n)\n",
    "        self.printLine(\"B\", self.winsB,n)\n",
    "        print(\"\\n\")\n",
    "\n",
    "        \n",
    "    def printLine(self,label,wins,n):\n",
    "        template = \"Player {0}:{1:5} ({2:5.1%})\"\n",
    "        print(template.format(label, wins, float(wins)/n))\n",
    "        \n",
    "def printIntro():\n",
    "    \"\"\"Prints the introduction for the game\"\"\"\n",
    "    print(\"This program simulates games of racquetball between two\")\n",
    "    print('players called \"A\" and \"B\". The ability of each player is')\n",
    "    print(\"indicated by a probability (a number between 0 and 1) that\")\n",
    "    print(\"the player wins the point when serving. Player A always\")\n",
    "    print(\"has the first serve.\\n\")\n",
    "\n",
    "def getInputs():\n",
    "    \"\"\"Returns the three simulation parameters inputted by the user\"\"\"\n",
    "    a = float(input(\"What is the prob. player A wins a serve?\"))\n",
    "    b = float(input(\"What is the prob. player B wins a serve?\"))\n",
    "    n = int(input(\"How many games to simulate?\"))\n",
    "    return a,b,n\n",
    "\n",
    "def main():\n",
    "    printIntro()\n",
    "    probA,probB,n=getInputs()\n",
    "    \n",
    "    #play the games\n",
    "    stats=SimStats()\n",
    "    for i in range(n):\n",
    "        theGame=RBallGame(probA,probB) #create a new game\n",
    "        theGame.play()                 #play it\n",
    "        stats.update(theGame)          #extract info\n",
    "        \n",
    "    #print the results\n",
    "    stats.printReport()\n",
    "main()\n",
    "input(\"\\nPress <Enter> to quit\")"
   ]
  },
  {
   "cell_type": "code",
   "execution_count": 2,
   "metadata": {},
   "outputs": [
    {
     "data": {
      "text/plain": [
       "13"
      ]
     },
     "execution_count": 2,
     "metadata": {},
     "output_type": "execute_result"
    }
   ],
   "source": []
  },
  {
   "cell_type": "code",
   "execution_count": null,
   "metadata": {},
   "outputs": [],
   "source": []
  }
 ],
 "metadata": {
  "kernelspec": {
   "display_name": "Python 3",
   "language": "python",
   "name": "python3"
  },
  "language_info": {
   "codemirror_mode": {
    "name": "ipython",
    "version": 3
   },
   "file_extension": ".py",
   "mimetype": "text/x-python",
   "name": "python",
   "nbconvert_exporter": "python",
   "pygments_lexer": "ipython3",
   "version": "3.7.2"
  }
 },
 "nbformat": 4,
 "nbformat_minor": 4
}
